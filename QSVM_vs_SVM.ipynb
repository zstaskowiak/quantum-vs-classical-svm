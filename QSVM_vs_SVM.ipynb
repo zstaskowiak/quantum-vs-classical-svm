{
  "cells": [
    {
      "cell_type": "code",
      "execution_count": null,
      "metadata": {
        "id": "QkueStfP-6Hc"
      },
      "outputs": [],
      "source": [
        "# Quantum vs Classical SVM on Breast Cancer Dataset\n",
        "# Author: Z. Staśkowiak\n",
        "# Description: This notebook compares a Quantum Support Vector Classifier (QSVC)\n",
        "# using Qiskit's quantum kernel with a classical SVM using scikit-learn.\n",
        "# ----------------------------------------------------------\n",
        "\n",
        "from sklearn.model_selection import train_test_split\n",
        "from sklearn.preprocessing import MaxAbsScaler\n",
        "from sklearn.metrics import accuracy_score\n",
        "from sklearn.decomposition import PCA\n",
        "from sklearn.svm import SVC\n",
        "from qiskit import *\n",
        "from qiskit.circuit import Parameter\n",
        "from qiskit.circuit import ParameterVector\n",
        "from qiskit.circuit.library import ZZFeatureMap\n",
        "from qiskit_machine_learning.kernels import FidelityQuantumKernel\n",
        "from qiskit.primitives import StatevectorSampler as Sampler\n",
        "from qiskit_machine_learning.state_fidelities import ComputeUncompute\n",
        "from qiskit_machine_learning.algorithms import QSVC\n",
        "import numpy as np\n",
        "from sklearn.datasets import load_breast_cancer"
      ]
    },
    {
      "cell_type": "code",
      "execution_count": null,
      "metadata": {
        "id": "u_Miftkatt70"
      },
      "outputs": [],
      "source": [
        "\n",
        "# using sklearn's breast cancer dataset\n",
        "# Load dataset\n",
        "x, y = load_breast_cancer(return_X_y=True)\n",
        "\n",
        "# splitting the data into train/test splits\n",
        "\n",
        "x_train, x_test, y_train, y_test = train_test_split(x, y, train_size=0.8)\n"
      ]
    },
    {
      "cell_type": "code",
      "execution_count": null,
      "metadata": {
        "id": "LnVqESMOt87s"
      },
      "outputs": [],
      "source": [
        "\n",
        "# normalize\n",
        "scaler = MaxAbsScaler()\n",
        "x_train = scaler.fit_transform(x_train)\n",
        "x_test = scaler.transform(x_test)\n",
        "\n",
        "# Apply PCA to reduce dimensionality\n",
        "pca = PCA(n_components=5)\n",
        "xs_train = pca.fit_transform(x_train)\n",
        "xs_test = pca.transform(x_test)"
      ]
    },
    {
      "cell_type": "code",
      "execution_count": 12,
      "metadata": {
        "id": "CF786XBduCHs"
      },
      "outputs": [],
      "source": [
        "# Adjust the feature map to match the number of features after PCA\n",
        "features = xs_train.shape[1]\n",
        "\n",
        "map = ZZFeatureMap(feature_dimension=features, reps=1, entanglement=\"circular\")\n",
        "\n",
        "sp = Sampler()\n",
        "fidelity_kind = ComputeUncompute(sampler=sp)\n"
      ]
    },
    {
      "cell_type": "code",
      "execution_count": 13,
      "metadata": {
        "colab": {
          "base_uri": "https://localhost:8080/"
        },
        "id": "O1BzBV3wuGF5",
        "outputId": "400b56bd-2822-4ee5-bf47-07fb29c0778e"
      },
      "outputs": [
        {
          "name": "stdout",
          "output_type": "stream",
          "text": [
            "Quantum SVM Accuracy: 0.9298245614035088\n"
          ]
        }
      ],
      "source": [
        "qkernel = FidelityQuantumKernel(fidelity=fidelity_kind, feature_map=map)\n",
        "\n",
        "# Train QSVM\n",
        "QSVM = QSVC(quantum_kernel=qkernel)\n",
        "QSVM.fit(xs_train, y_train)\n",
        "\n",
        "\n",
        "print(\"Quantum SVM Accuracy:\", accuracy_score(QSVM.predict(xs_test), y_test))"
      ]
    },
    {
      "cell_type": "code",
      "execution_count": 15,
      "metadata": {
        "colab": {
          "base_uri": "https://localhost:8080/"
        },
        "id": "CzZ0lDaPIRGn",
        "outputId": "20b8c319-b132-4462-b671-4b9ee23ace51"
      },
      "outputs": [
        {
          "name": "stdout",
          "output_type": "stream",
          "text": [
            "Classical SVM Accuracy: 0.9736842105263158\n"
          ]
        }
      ],
      "source": [
        "# SVM for comparison\n",
        "\n",
        "SVM = SVC(gamma='scale')\n",
        "SVM.fit(xs_train, y_train)\n",
        "\n",
        "print(\"Classical SVM Accuracy:\", accuracy_score(SVM.predict(xs_test), y_test))"
      ]
    }
  ],
  "metadata": {
    "colab": {
      "provenance": []
    },
    "kernelspec": {
      "display_name": "Python 3",
      "name": "python3"
    },
    "language_info": {
      "name": "python"
    }
  },
  "nbformat": 4,
  "nbformat_minor": 0
}
